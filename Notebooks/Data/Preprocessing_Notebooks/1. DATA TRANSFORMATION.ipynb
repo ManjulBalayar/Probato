{
 "cells": [
  {
   "cell_type": "markdown",
   "metadata": {},
   "source": [
    "## Data Transformation For Model\n",
    "\n",
    "On this notebook, I will be focusing on transforming the final dataset that were generated from the ONET Notebooks. Currently, the notebook is in a long format and I will be performing any cleaning, pivoting to wide format, any dimensionality reduction needed, to create a final matrix (jobs, features) for the content-based recommender model. The model training and computing the similarity and recommendations will be done in another notebook."
   ]
  },
  {
   "cell_type": "code",
   "execution_count": 1,
   "metadata": {},
   "outputs": [],
   "source": [
    "import pandas as pd\n",
    "import numpy as np\n",
    "import matplotlib.pyplot as plt\n",
    "import seaborn as sns"
   ]
  },
  {
   "cell_type": "code",
   "execution_count": 3,
   "metadata": {},
   "outputs": [
    {
     "data": {
      "text/html": [
       "<div>\n",
       "<style scoped>\n",
       "    .dataframe tbody tr th:only-of-type {\n",
       "        vertical-align: middle;\n",
       "    }\n",
       "\n",
       "    .dataframe tbody tr th {\n",
       "        vertical-align: top;\n",
       "    }\n",
       "\n",
       "    .dataframe thead th {\n",
       "        text-align: right;\n",
       "    }\n",
       "</style>\n",
       "<table border=\"1\" class=\"dataframe\">\n",
       "  <thead>\n",
       "    <tr style=\"text-align: right;\">\n",
       "      <th></th>\n",
       "      <th>O*NET-SOC Code</th>\n",
       "      <th>Title</th>\n",
       "      <th>Attribute Type</th>\n",
       "      <th>Element ID</th>\n",
       "      <th>Element Name</th>\n",
       "      <th>Scale Name</th>\n",
       "      <th>Data Value</th>\n",
       "    </tr>\n",
       "  </thead>\n",
       "  <tbody>\n",
       "    <tr>\n",
       "      <th>0</th>\n",
       "      <td>11-1011.00</td>\n",
       "      <td>Chief Executives</td>\n",
       "      <td>Knowledge</td>\n",
       "      <td>2.C.1.a</td>\n",
       "      <td>Administration and Management</td>\n",
       "      <td>Importance</td>\n",
       "      <td>4.78</td>\n",
       "    </tr>\n",
       "    <tr>\n",
       "      <th>1</th>\n",
       "      <td>11-1011.00</td>\n",
       "      <td>Chief Executives</td>\n",
       "      <td>Knowledge</td>\n",
       "      <td>2.C.1.a</td>\n",
       "      <td>Administration and Management</td>\n",
       "      <td>Level</td>\n",
       "      <td>6.50</td>\n",
       "    </tr>\n",
       "    <tr>\n",
       "      <th>2</th>\n",
       "      <td>11-1011.00</td>\n",
       "      <td>Chief Executives</td>\n",
       "      <td>Knowledge</td>\n",
       "      <td>2.C.1.b</td>\n",
       "      <td>Administrative</td>\n",
       "      <td>Importance</td>\n",
       "      <td>2.42</td>\n",
       "    </tr>\n",
       "    <tr>\n",
       "      <th>3</th>\n",
       "      <td>11-1011.00</td>\n",
       "      <td>Chief Executives</td>\n",
       "      <td>Knowledge</td>\n",
       "      <td>2.C.1.b</td>\n",
       "      <td>Administrative</td>\n",
       "      <td>Level</td>\n",
       "      <td>2.69</td>\n",
       "    </tr>\n",
       "    <tr>\n",
       "      <th>4</th>\n",
       "      <td>11-1011.00</td>\n",
       "      <td>Chief Executives</td>\n",
       "      <td>Knowledge</td>\n",
       "      <td>2.C.1.c</td>\n",
       "      <td>Economics and Accounting</td>\n",
       "      <td>Importance</td>\n",
       "      <td>4.04</td>\n",
       "    </tr>\n",
       "  </tbody>\n",
       "</table>\n",
       "</div>"
      ],
      "text/plain": [
       "  O*NET-SOC Code             Title Attribute Type Element ID  \\\n",
       "0     11-1011.00  Chief Executives      Knowledge    2.C.1.a   \n",
       "1     11-1011.00  Chief Executives      Knowledge    2.C.1.a   \n",
       "2     11-1011.00  Chief Executives      Knowledge    2.C.1.b   \n",
       "3     11-1011.00  Chief Executives      Knowledge    2.C.1.b   \n",
       "4     11-1011.00  Chief Executives      Knowledge    2.C.1.c   \n",
       "\n",
       "                    Element Name  Scale Name  Data Value  \n",
       "0  Administration and Management  Importance        4.78  \n",
       "1  Administration and Management       Level        6.50  \n",
       "2                 Administrative  Importance        2.42  \n",
       "3                 Administrative       Level        2.69  \n",
       "4       Economics and Accounting  Importance        4.04  "
      ]
     },
     "execution_count": 3,
     "metadata": {},
     "output_type": "execute_result"
    }
   ],
   "source": [
    "df = pd.read_csv('../../../Datasets/Final Datasets/model_dataset.csv')\n",
    "df.head()"
   ]
  },
  {
   "cell_type": "code",
   "execution_count": null,
   "metadata": {},
   "outputs": [],
   "source": []
  }
 ],
 "metadata": {
  "kernelspec": {
   "display_name": "venv",
   "language": "python",
   "name": "python3"
  },
  "language_info": {
   "codemirror_mode": {
    "name": "ipython",
    "version": 3
   },
   "file_extension": ".py",
   "mimetype": "text/x-python",
   "name": "python",
   "nbconvert_exporter": "python",
   "pygments_lexer": "ipython3",
   "version": "3.11.5"
  }
 },
 "nbformat": 4,
 "nbformat_minor": 2
}
